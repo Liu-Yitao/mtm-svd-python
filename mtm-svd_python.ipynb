{
 "cells": [
  {
   "cell_type": "markdown",
   "id": "a7900c10-0a33-414f-b279-4c4f7cb11882",
   "metadata": {
    "tags": []
   },
   "source": [
    "## Script for MultiTaper Method-Singular Value Decomposition (MTM-SVD) with Monte Carlo test in python\n",
    "\n",
    "------------------------------------------------------------------\n",
    "\n",
    "This script is a modified version of the Python function developed by\n",
    "Mathilde Jutras at McGill University, Canada[1]. \n",
    "You can find the original Python code here: \n",
    "https://github.com/mathildejutras/mtm-svd-python\n",
    "\n",
    "This script was adapted by Yitao Liu at Nanjing University of Information Science & Technology, China\n",
    "Copyright (C) 2021, Yitao Liu.\n",
    "And is available under the GNU General Public License v3.0.\n",
    "\n",
    "The script may be used, copied, or redistributed as long as it is cited as follow:\n",
    "\n",
    "Liu-Yitao, & Mathilde Jutras. (2021). Liu-Yitao/mtm-svd-python: MTM-SVD with Monte Carlo test (v1.1.0). Zenodo. https://doi.org/10.5281/zenodo.5774584\n",
    "\n",
    "This software may be used, copied, or redistributed as long as it is not \n",
    "sold and that this copyright notice is reproduced on each copy made. \n",
    "This routine is provided as is without any express or implied warranties.\n",
    "\n",
    "Questions or comments to:\n",
    "Yitao Liu, liuyitao97@outlook.com\n",
    "\n",
    "Last update:\n",
    "Dec 2021\n",
    "\n",
    "------------------------------------------------------------------\n",
    "\n",
    "The script is structured as follows:\n",
    "\n",
    "In the main script is found in mtm-svd-python.py\n",
    "In the first section, the user can load the data,\n",
    "assuming the outputs are stored in a netcdf format.\n",
    "In the secton section, functions are called to calculate the spectrum\n",
    "The user will then be asked for which frequencies he wants to plot \n",
    "the spatial patterns associated with the variability.\n",
    "In the third section, the spatial patterns are plotted and saved\n",
    "\n",
    "The required functions are found in mtm_functions.py\n",
    "\n",
    "------------------------------------------------------------------\n",
    "\n",
    "Python Package needed:\n",
    "- numpy\n",
    "- scipy\n",
    "- xarray (read the netcdf file)\n",
    "- matplotlib (not necessary, just for plotting)\n",
    "\n",
    "You can install the needed Python packages by conda,with the command below\n",
    "```\n",
    "conda install -c conda-forge numpy scipy xarray matplotlib\n",
    "```\n",
    "\n",
    "[1] Mathilde Jutras. (2020, July 6). mathildejutras/mtm-svd-python: v1.0.0-alpha (Version v1.0.0). Zenodo. http://doi.org/10.5281/zenodo.3932319"
   ]
  },
  {
   "cell_type": "code",
   "execution_count": null,
   "id": "5446a1b4-24ba-4126-9dda-795cce4ed4f5",
   "metadata": {},
   "outputs": [],
   "source": [
    "from mtm_functions import *\n",
    "import xarray as xr\n",
    "# from os import listdir\n",
    "from os import system\n",
    "import numpy as np\n",
    "import matplotlib.pyplot as plt\n",
    "import matplotlib.gridspec as gridspec\n",
    "import time"
   ]
  },
  {
   "cell_type": "markdown",
   "id": "25b7dc79-688d-4687-b4e4-c36f337dc4b5",
   "metadata": {},
   "source": [
    "# Load the data"
   ]
  },
  {
   "cell_type": "code",
   "execution_count": null,
   "id": "033241b4-bfd0-4685-ad5d-52c8b2ea6099",
   "metadata": {},
   "outputs": [],
   "source": [
    "# the data used in this sample is the SST of CMIP5 CCSM4 piControl\n",
    "file_path = 'tos_1x1_CCSM4_piControl.nc'\n",
    "# Select the depth, in m\n",
    "d = 0 \n",
    "model = 'CCSM4' # name of the model, for naming the output\n",
    "\n",
    "var = xr.open_dataset(file_path)['tos'].loc[:,0:65,280:360]\n",
    "dt = 1. # time step in years\n",
    "lon = var.lon\n",
    "lat = var.lat\n",
    "# var = var.sel(NAME_DEPTH_VARIABLE=d, method='nearest').values\n",
    "\n",
    "# Plot map of the variable\n",
    "xgrid, ygrid = np.meshgrid(lon,lat)\n",
    "plt.pcolor(xgrid, ygrid, var[0,:,:], cmap='jet')\n",
    "cbar=plt.colorbar()\n",
    "plt.savefig(f'Figs/{model}_data_first_timestep.jpg')\n",
    "plt.show()\n",
    "plt.clf()"
   ]
  },
  {
   "cell_type": "markdown",
   "id": "3c28ccac-5f6b-4345-bc66-714217230c70",
   "metadata": {},
   "source": [
    "# Compute the LVF\n"
   ]
  },
  {
   "cell_type": "code",
   "execution_count": null,
   "id": "1da6d0f1-6138-4ff7-8ed1-16dbfdc08809",
   "metadata": {},
   "outputs": [],
   "source": [
    "# Slepian tapers\n",
    "nw = 2; # bandwidth\n",
    "kk = 3; # number of orthogonal windows\n",
    "\n",
    "# Select the frequence that need & make it a xr.DataArray\n",
    "# freq >= 0.01 means period shorter than 100 years\n",
    "# freq <= 0.1 means period longer than 10 years\n",
    "freq_band = [0.01,0.1] # depends on the study\n",
    "\n",
    "# Reshape the 2d array to a 1d array\n",
    "o2 = var.copy().values.astype(np.float32)\n",
    "o2ts = o2.reshape((o2.shape[0],o2.shape[1]*o2.shape[2]), order='F')\n",
    "p, n = o2ts.shape\n",
    "\n",
    "# Compute the LFV\n",
    "[freq, lfv] = mtm_svd_lfv(o2ts,nw,kk,dt)\n",
    "\n",
    "freq_sel_index = np.where((freq>=freq_band[0]) & (freq<=freq_band[1]))\n",
    "freq_sel = freq[freq_sel_index]\n",
    "lfv_sel = lfv[freq_sel_index]"
   ]
  },
  {
   "cell_type": "code",
   "execution_count": null,
   "id": "694b38cc-12b9-4069-8a45-06fa39f617c9",
   "metadata": {},
   "outputs": [],
   "source": [
    "spectrum = xr.DataArray(lfv_sel, coords = [freq_sel], dims=['freq']).rename('lfv')\n",
    "spectrum.plot()"
   ]
  },
  {
   "cell_type": "code",
   "execution_count": null,
   "id": "47679715-1569-4d19-b10e-b0759ba0d9e5",
   "metadata": {},
   "outputs": [],
   "source": [
    "niter = 1000 # at least 1000\n",
    "sl = [0.05,0.1,0.3]\n",
    "T1 = time.time()\n",
    "[freq, conflevel] = monte_carlo_test(o2ts,niter,sl,len(freq),nw,kk,dt)\n",
    "T2 = time.time()\n",
    "\n",
    "freq_sel_index = np.where((freq>=freq_band[0]) & (freq<=freq_band[1]))\n",
    "freq_sel = freq[freq_sel_index]\n",
    "conflevel_sel = conflevel[:,freq_sel_index][:,0,:]"
   ]
  },
  {
   "cell_type": "code",
   "execution_count": null,
   "id": "8fecc68c-2fcc-4fd8-831b-90d203313517",
   "metadata": {},
   "outputs": [],
   "source": [
    "print('time cost of confidence: %f min' % ((T2 - T1)/60))"
   ]
  },
  {
   "cell_type": "code",
   "execution_count": null,
   "id": "f100ef4d-8dad-48dc-ad44-604d1b3fa43f",
   "metadata": {},
   "outputs": [],
   "source": [
    "# Display the plot to allow the user to choose the frequencies associated with peaks\n",
    "fig = plt.figure(figsize=(6, 4))#,tight_layout=True\n",
    "gs = gridspec.GridSpec(1, 1)\n",
    "ax = plt.subplot(gs[0, 0])\n",
    "ax.semilogx(freq_sel, lfv_sel, '-', c='k')\n",
    "ax.semilogx(freq_sel, conflevel_sel[0,:], '--', c='tab:red', label=str(sl[0]), alpha=0.8)\n",
    "ax.semilogx(freq_sel, conflevel_sel[1,:], '--', c='tab:orange', label=str(sl[1]), alpha=0.8)\n",
    "ax.semilogx(freq_sel, conflevel_sel[2,:], '--', c='tab:blue', label=str(sl[2]), alpha=0.8)\n",
    "ax.set_xlim([0.01,.1])\n",
    "ax.legend()\n",
    "plt.savefig(f'Figs/{model}_spectrum.jpg')\n",
    "plt.show()\n",
    "plt.clf()"
   ]
  },
  {
   "cell_type": "code",
   "execution_count": null,
   "id": "9d419c27-25fc-4baf-8ad1-25cf1d528268",
   "metadata": {},
   "outputs": [],
   "source": [
    "# save data\n",
    "conf_dataarray = xr.DataArray(conflevel_sel, coords=[sl, freq_sel], dims=['siglev','freq']).rename('conflev')\n",
    "ds = xr.Dataset()\n",
    "ds = ds.merge(spectrum.to_dataset()).merge(conf_dataarray.to_dataset())\n",
    "system(f'rm -f {model}_lfv_conf.nc')\n",
    "ds.to_netcdf(f'./{model}_lfv_conf.nc')"
   ]
  },
  {
   "cell_type": "markdown",
   "id": "ce6bd13b-ebd5-4bdb-a32f-472edfa6a54a",
   "metadata": {},
   "source": [
    "\n",
    "# Reconstruct spatial patterns"
   ]
  },
  {
   "cell_type": "code",
   "execution_count": null,
   "id": "b803c609-b2de-4543-b9c9-3f67a5fe2078",
   "metadata": {
    "tags": []
   },
   "outputs": [],
   "source": [
    "# Select frequency(ies)\n",
    "fo = [0.02, 0.05] \n",
    "# Calculate the reconstruction\n",
    "\n",
    "vexp, totvarexp, iis = mtm_svd_recon(o2ts,nw,kk,dt,fo)\n",
    "\n",
    "# Plot the map for each frequency peak\n",
    "\n",
    "for i in range(len(fo)):\n",
    "\tRV = np.reshape(vexp[i],xgrid.shape, order='F')\n",
    "\tfig, (ax1, ax2) = plt.subplots(2,1,gridspec_kw={'height_ratios':[1,3]},figsize=(5,7))\n",
    "\tax1.semilogx(freq_sel, lfv_sel, '-', c='k')\n",
    "\tax1.semilogx(freq_sel, conflevel_sel[0,:], '--', c='tab:red', label=str(sl[0]), alpha=0.8)\n",
    "\t# ax1.semilogx(freq_sel, conflevel_sel[1,:], '--', c='tab:orange', label=str(sl[1]), alpha=0.8)\n",
    "\t# ax1.semilogx(freq_sel, conflevel_sel[2,:], '--', c='tab:blue', label=str(sl[2]), alpha=0.8)\n",
    "\tax1.plot(freq[iis[i]],lfv[iis[i]],'r*',markersize=10)\n",
    "\tax1.set_xlabel('Frequency [1/years]')\n",
    "\tax1.set_title('LVF at %i m'%d)\n",
    "\n",
    "\tpc = ax2.pcolor(xgrid, ygrid, RV, cmap='jet', vmin=0, vmax=1.5) \n",
    "\tcbar = fig.colorbar(pc, ax=ax2, orientation='horizontal', pad=0.1)\n",
    "\tcbar.set_label('Variance')\n",
    "\tax2.set_title('Variance explained by period %.2f yrs'%(1./fo[i]))\n",
    "\n",
    "\tplt.tight_layout()\n",
    "\tplt.savefig(f'Figs/{model}_peak_analysis_%s_%im_%.2fyrs.jpg'%(model,d,1./fo[i]))\n",
    "\tplt.show()\n",
    "\tplt.clf()\n",
    "\n"
   ]
  },
  {
   "cell_type": "code",
   "execution_count": null,
   "id": "ee6840aa-075c-472d-b59a-5fb88fd90e9d",
   "metadata": {},
   "outputs": [],
   "source": []
  }
 ],
 "metadata": {
  "kernelspec": {
   "display_name": "Python [conda env:geopy]",
   "language": "python",
   "name": "conda-env-geopy-py"
  },
  "language_info": {
   "codemirror_mode": {
    "name": "ipython",
    "version": 3
   },
   "file_extension": ".py",
   "mimetype": "text/x-python",
   "name": "python",
   "nbconvert_exporter": "python",
   "pygments_lexer": "ipython3",
   "version": "3.9.7"
  }
 },
 "nbformat": 4,
 "nbformat_minor": 5
}
